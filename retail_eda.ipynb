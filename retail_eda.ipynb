{
 "cells": [
  {
   "cell_type": "markdown",
   "id": "af83ba38",
   "metadata": {},
   "source": [
    "# 📊 Exploratory Data Analysis on Retail Sales\n",
    "\n",
    "## Authored By: Uzair Akhtar  \n",
    "**Role**: Data Analytics Intern at Data Zenix  \n",
    "**Date**: July 2025  \n",
    "**Project**: 1st Internship Project — Exploratory Data Analysis (EDA)  \n",
    "**GitHub**: [https://github.com/uzair2121]  \n",
    "**LinkedIn**: [https://www.linkedin.com/in/uzair08/]\n",
    "\n",
    "---\n",
    "\n",
    "###  Project Objective:\n",
    "\n",
    "Perform a complete Exploratory Data Analysis (EDA) on retail and warehouse sales data to uncover:\n",
    "\n",
    "- Monthly trends 📆  \n",
    "- Top-performing products 🥇  \n",
    "- Customer & product behavior 👥  \n",
    "- Actionable insights 💡\n",
    "\n",
    "This notebook is part of my internship at , where I am learning real-time data analysis using Python, Pandas, Matplotlib, and Seaborn.\n"
   ]
  },
  {
   "cell_type": "markdown",
   "id": "8487805a",
   "metadata": {},
   "source": [
    "### 🧪 Retail Sales EDA Project\n",
    "\n",
    "This notebook performs **Exploratory Data Analysis (EDA)** on retail and warehouse sales data to identify patterns, trends, and insights for business decision-making."
   ]
  },
  {
   "cell_type": "code",
   "execution_count": 17,
   "id": "5c220f40",
   "metadata": {},
   "outputs": [
    {
     "name": "stdout",
     "output_type": "stream",
     "text": [
      "Libraries loaded!\n"
     ]
    }
   ],
   "source": [
    "# Import libraries\n",
    "import pandas as pd\n",
    "import matplotlib.pyplot as plt\n",
    "import seaborn as sns\n",
    "print(\"Libraries loaded!\")"
   ]
  },
  {
   "cell_type": "markdown",
   "id": "e55ab08e",
   "metadata": {},
   "source": [
    "###  Step 1: Load Raw Datasets\n",
    "\n",
    "We load two datasets:\n",
    "- `retail_sales_dataset.csv`: Transaction-level retail data\n",
    "- `Warehouse_and_Retail_Sales.csv`: Monthly warehouse sales data\n"
   ]
  },
  {
   "cell_type": "code",
   "execution_count": 18,
   "id": "9e238ee6",
   "metadata": {},
   "outputs": [
    {
     "name": "stdout",
     "output_type": "stream",
     "text": [
      "df1 Structure:\n"
     ]
    },
    {
     "data": {
      "text/html": [
       "<div>\n",
       "<style scoped>\n",
       "    .dataframe tbody tr th:only-of-type {\n",
       "        vertical-align: middle;\n",
       "    }\n",
       "\n",
       "    .dataframe tbody tr th {\n",
       "        vertical-align: top;\n",
       "    }\n",
       "\n",
       "    .dataframe thead th {\n",
       "        text-align: right;\n",
       "    }\n",
       "</style>\n",
       "<table border=\"1\" class=\"dataframe\">\n",
       "  <thead>\n",
       "    <tr style=\"text-align: right;\">\n",
       "      <th></th>\n",
       "      <th>Transaction ID</th>\n",
       "      <th>Date</th>\n",
       "      <th>Customer ID</th>\n",
       "      <th>Gender</th>\n",
       "      <th>Age</th>\n",
       "      <th>Product Category</th>\n",
       "      <th>Quantity</th>\n",
       "      <th>Price per Unit</th>\n",
       "      <th>Total Amount</th>\n",
       "    </tr>\n",
       "  </thead>\n",
       "  <tbody>\n",
       "    <tr>\n",
       "      <th>0</th>\n",
       "      <td>1</td>\n",
       "      <td>24/11/2023</td>\n",
       "      <td>CUST001</td>\n",
       "      <td>Male</td>\n",
       "      <td>34</td>\n",
       "      <td>Beauty</td>\n",
       "      <td>3</td>\n",
       "      <td>50</td>\n",
       "      <td>150</td>\n",
       "    </tr>\n",
       "    <tr>\n",
       "      <th>1</th>\n",
       "      <td>2</td>\n",
       "      <td>27/02/2023</td>\n",
       "      <td>CUST002</td>\n",
       "      <td>Female</td>\n",
       "      <td>26</td>\n",
       "      <td>Clothing</td>\n",
       "      <td>2</td>\n",
       "      <td>500</td>\n",
       "      <td>1000</td>\n",
       "    </tr>\n",
       "  </tbody>\n",
       "</table>\n",
       "</div>"
      ],
      "text/plain": [
       "   Transaction ID        Date Customer ID  Gender  Age Product Category  \\\n",
       "0               1  24/11/2023     CUST001    Male   34           Beauty   \n",
       "1               2  27/02/2023     CUST002  Female   26         Clothing   \n",
       "\n",
       "   Quantity  Price per Unit  Total Amount  \n",
       "0         3              50           150  \n",
       "1         2             500          1000  "
      ]
     },
     "metadata": {},
     "output_type": "display_data"
    },
    {
     "name": "stdout",
     "output_type": "stream",
     "text": [
      "\n",
      "df2 Structure:\n"
     ]
    },
    {
     "data": {
      "text/html": [
       "<div>\n",
       "<style scoped>\n",
       "    .dataframe tbody tr th:only-of-type {\n",
       "        vertical-align: middle;\n",
       "    }\n",
       "\n",
       "    .dataframe tbody tr th {\n",
       "        vertical-align: top;\n",
       "    }\n",
       "\n",
       "    .dataframe thead th {\n",
       "        text-align: right;\n",
       "    }\n",
       "</style>\n",
       "<table border=\"1\" class=\"dataframe\">\n",
       "  <thead>\n",
       "    <tr style=\"text-align: right;\">\n",
       "      <th></th>\n",
       "      <th>YEAR</th>\n",
       "      <th>MONTH</th>\n",
       "      <th>SUPPLIER</th>\n",
       "      <th>ITEM CODE</th>\n",
       "      <th>ITEM DESCRIPTION</th>\n",
       "      <th>ITEM TYPE</th>\n",
       "      <th>RETAIL SALES</th>\n",
       "      <th>RETAIL TRANSFERS</th>\n",
       "      <th>WAREHOUSE SALES</th>\n",
       "    </tr>\n",
       "  </thead>\n",
       "  <tbody>\n",
       "    <tr>\n",
       "      <th>0</th>\n",
       "      <td>2020</td>\n",
       "      <td>1</td>\n",
       "      <td>REPUBLIC NATIONAL DISTRIBUTING CO</td>\n",
       "      <td>100009</td>\n",
       "      <td>BOOTLEG RED - 750ML</td>\n",
       "      <td>WINE</td>\n",
       "      <td>0.0</td>\n",
       "      <td>0.0</td>\n",
       "      <td>2.0</td>\n",
       "    </tr>\n",
       "    <tr>\n",
       "      <th>1</th>\n",
       "      <td>2020</td>\n",
       "      <td>1</td>\n",
       "      <td>PWSWN INC</td>\n",
       "      <td>100024</td>\n",
       "      <td>MOMENT DE PLAISIR - 750ML</td>\n",
       "      <td>WINE</td>\n",
       "      <td>0.0</td>\n",
       "      <td>1.0</td>\n",
       "      <td>4.0</td>\n",
       "    </tr>\n",
       "  </tbody>\n",
       "</table>\n",
       "</div>"
      ],
      "text/plain": [
       "   YEAR  MONTH                           SUPPLIER ITEM CODE  \\\n",
       "0  2020      1  REPUBLIC NATIONAL DISTRIBUTING CO    100009   \n",
       "1  2020      1                          PWSWN INC    100024   \n",
       "\n",
       "            ITEM DESCRIPTION ITEM TYPE  RETAIL SALES  RETAIL TRANSFERS  \\\n",
       "0        BOOTLEG RED - 750ML      WINE           0.0               0.0   \n",
       "1  MOMENT DE PLAISIR - 750ML      WINE           0.0               1.0   \n",
       "\n",
       "   WAREHOUSE SALES  \n",
       "0              2.0  \n",
       "1              4.0  "
      ]
     },
     "metadata": {},
     "output_type": "display_data"
    }
   ],
   "source": [
    "# Load datasets\n",
    "df1 = pd.read_csv(\"retail_sales_dataset.csv\")\n",
    "df2 = pd.read_csv(\"Warehouse_and_Retail_Sales.csv\")\n",
    "\n",
    "# Verify structure\n",
    "print(\"df1 Structure:\")\n",
    "display(df1.head(2))\n",
    "print(\"\\ndf2 Structure:\")\n",
    "display(df2.head(2))"
   ]
  },
  {
   "cell_type": "markdown",
   "id": "f58bfdd9",
   "metadata": {},
   "source": [
    "### Step 2: Clean and Merge Data\n",
    "\n",
    "We standardize column names, parse dates, convert data types, and merge the two datasets into one clean DataFrame.\n"
   ]
  },
  {
   "cell_type": "code",
   "execution_count": 19,
   "id": "d2b363a3",
   "metadata": {},
   "outputs": [
    {
     "name": "stdout",
     "output_type": "stream",
     "text": [
      "df1 columns: ['transaction_id', 'date', 'customer_id', 'gender', 'age', 'product_category', 'quantity', 'price_per_unit', 'total_amount']\n",
      "df2 columns: ['year', 'month', 'supplier', 'item_code', 'item_description', 'item_type', 'retail_sales', 'retail_transfers', 'warehouse_sales']\n"
     ]
    },
    {
     "name": "stderr",
     "output_type": "stream",
     "text": [
      "C:\\Users\\HUA\\AppData\\Local\\Temp\\ipykernel_9916\\769591413.py:20: UserWarning: Parsing dates in %d/%m/%Y format when dayfirst=False (the default) was specified. Pass `dayfirst=True` or specify a format to silence this warning.\n",
      "  df1['date'] = pd.to_datetime(df1['date'], errors='coerce')\n"
     ]
    },
    {
     "name": "stdout",
     "output_type": "stream",
     "text": [
      "\n",
      "✅ Combined data structure:\n"
     ]
    },
    {
     "data": {
      "text/html": [
       "<div>\n",
       "<style scoped>\n",
       "    .dataframe tbody tr th:only-of-type {\n",
       "        vertical-align: middle;\n",
       "    }\n",
       "\n",
       "    .dataframe tbody tr th {\n",
       "        vertical-align: top;\n",
       "    }\n",
       "\n",
       "    .dataframe thead th {\n",
       "        text-align: right;\n",
       "    }\n",
       "</style>\n",
       "<table border=\"1\" class=\"dataframe\">\n",
       "  <thead>\n",
       "    <tr style=\"text-align: right;\">\n",
       "      <th></th>\n",
       "      <th>date</th>\n",
       "      <th>product_category</th>\n",
       "      <th>quantity</th>\n",
       "      <th>total_amount</th>\n",
       "      <th>retail_sales</th>\n",
       "      <th>warehouse_sales</th>\n",
       "    </tr>\n",
       "  </thead>\n",
       "  <tbody>\n",
       "    <tr>\n",
       "      <th>0</th>\n",
       "      <td>2023-11-24</td>\n",
       "      <td>Beauty</td>\n",
       "      <td>3.0</td>\n",
       "      <td>150.0</td>\n",
       "      <td>NaN</td>\n",
       "      <td>NaN</td>\n",
       "    </tr>\n",
       "    <tr>\n",
       "      <th>1</th>\n",
       "      <td>2023-02-27</td>\n",
       "      <td>Clothing</td>\n",
       "      <td>2.0</td>\n",
       "      <td>1000.0</td>\n",
       "      <td>NaN</td>\n",
       "      <td>NaN</td>\n",
       "    </tr>\n",
       "    <tr>\n",
       "      <th>2</th>\n",
       "      <td>2023-01-13</td>\n",
       "      <td>Electronics</td>\n",
       "      <td>1.0</td>\n",
       "      <td>30.0</td>\n",
       "      <td>NaN</td>\n",
       "      <td>NaN</td>\n",
       "    </tr>\n",
       "  </tbody>\n",
       "</table>\n",
       "</div>"
      ],
      "text/plain": [
       "        date product_category  quantity  total_amount  retail_sales  \\\n",
       "0 2023-11-24           Beauty       3.0         150.0           NaN   \n",
       "1 2023-02-27         Clothing       2.0        1000.0           NaN   \n",
       "2 2023-01-13      Electronics       1.0          30.0           NaN   \n",
       "\n",
       "   warehouse_sales  \n",
       "0              NaN  \n",
       "1              NaN  \n",
       "2              NaN  "
      ]
     },
     "metadata": {},
     "output_type": "display_data"
    },
    {
     "name": "stdout",
     "output_type": "stream",
     "text": [
      "\n",
      "Columns in final dataframe: ['date', 'product_category', 'quantity', 'total_amount', 'retail_sales', 'warehouse_sales']\n"
     ]
    }
   ],
   "source": [
    "# Standardize column names (lowercase, underscores, no whitespace)\n",
    "df1.columns = df1.columns.str.lower().str.replace(' ', '_')\n",
    "df2.columns = df2.columns.str.lower().str.replace(' ', '_')\n",
    "\n",
    "# Verify column names\n",
    "print(\"df1 columns:\", df1.columns.tolist())\n",
    "print(\"df2 columns:\", df2.columns.tolist())\n",
    "\n",
    "# Handle 'product_category' column (check for alternatives)\n",
    "product_category_col = None\n",
    "for possible_col in ['product_category', 'item_type', 'category']:\n",
    "    if possible_col in df2.columns:\n",
    "        product_category_col = possible_col\n",
    "        break\n",
    "\n",
    "if product_category_col is None:\n",
    "    raise ValueError(\"No product category column found in df2\")\n",
    "\n",
    "# Convert dates\n",
    "df1['date'] = pd.to_datetime(df1['date'], errors='coerce')\n",
    "df2['date'] = pd.to_datetime(\n",
    "    df2['year'].astype(str) + '-' + \n",
    "    df2['month'].astype(str).str.zfill(2) + '-01'\n",
    ")\n",
    "\n",
    "# Process numeric columns\n",
    "numeric_cols = ['retail_sales', 'warehouse_sales', 'retail_transfers']\n",
    "for col in numeric_cols:\n",
    "    if col in df2.columns:\n",
    "        df2[col] = pd.to_numeric(df2[col], errors='coerce').fillna(0)\n",
    "\n",
    "# Select columns for merging\n",
    "df1_cols = ['date', 'product_category', 'quantity', 'total_amount']\n",
    "df2_cols = ['date', product_category_col, 'retail_sales', 'warehouse_sales']\n",
    "\n",
    "# Ensure columns exist before merging\n",
    "df1_cols = [col for col in df1_cols if col in df1.columns]\n",
    "df2_cols = [col for col in df2_cols if col in df2.columns]\n",
    "\n",
    "# Combine datasets\n",
    "df = pd.concat(\n",
    "    [\n",
    "        df1[df1_cols],\n",
    "        df2[df2_cols].rename(columns={product_category_col: 'product_category'})\n",
    "    ],\n",
    "    ignore_index=True\n",
    ")\n",
    "\n",
    "# Final cleaning\n",
    "df = df.dropna(subset=['date', 'product_category'])\n",
    "\n",
    "print(\"\\n✅ Combined data structure:\")\n",
    "display(df.head(3))\n",
    "print(\"\\nColumns in final dataframe:\", df.columns.tolist())"
   ]
  },
  {
   "cell_type": "markdown",
   "id": "9975c6fe",
   "metadata": {},
   "source": [
    "### Step 3: Basic Exploratory Analysis\n",
    "\n",
    "We explore numeric statistics and value counts for product categories.\n"
   ]
  },
  {
   "cell_type": "code",
   "execution_count": 20,
   "id": "73db917b",
   "metadata": {},
   "outputs": [
    {
     "name": "stdout",
     "output_type": "stream",
     "text": [
      "📈 Numeric Columns Summary:\n",
      "                                date     quantity  total_amount  \\\n",
      "count                         308644  1000.000000   1000.000000   \n",
      "mean   2018-11-26 21:27:56.385738752     2.514000    456.000000   \n",
      "min              2017-06-01 00:00:00     1.000000     25.000000   \n",
      "25%              2017-11-01 00:00:00     1.000000     60.000000   \n",
      "50%              2019-03-01 00:00:00     3.000000    135.000000   \n",
      "75%              2019-09-01 00:00:00     4.000000    900.000000   \n",
      "max              2024-01-01 00:00:00     4.000000   2000.000000   \n",
      "std                              NaN     1.132734    559.997632   \n",
      "\n",
      "        retail_sales  warehouse_sales  \n",
      "count  307644.000000    307644.000000  \n",
      "mean        7.024026        25.294676  \n",
      "min        -6.490000     -7800.000000  \n",
      "25%         0.000000         0.000000  \n",
      "50%         0.320000         1.000000  \n",
      "75%         3.262500         5.000000  \n",
      "max      2739.000000     18317.000000  \n",
      "std        30.986142       249.917201  \n",
      "\n",
      "🔍 Categorical Columns Summary:\n",
      "product_category\n",
      "WINE            187640\n",
      "LIQUOR           64910\n",
      "BEER             42413\n",
      "KEGS             10146\n",
      "NON-ALCOHOL       1908\n",
      "STR_SUPPLIES       405\n",
      "Clothing           351\n",
      "Electronics        342\n",
      "Beauty             307\n",
      "REF                127\n",
      "DUNNAGE             95\n",
      "Name: count, dtype: int64\n"
     ]
    }
   ],
   "source": [
    "#Basic stats\n",
    "print(\"📈 Numeric Columns Summary:\")\n",
    "print(df.describe())\n",
    "\n",
    "print(\"\\n🔍 Categorical Columns Summary:\")\n",
    "print(df['product_category'].value_counts())"
   ]
  },
  {
   "cell_type": "markdown",
   "id": "7c60d602",
   "metadata": {},
   "source": [
    "### Step 4: Time Series Trends\n",
    "\n",
    "Here we analyze monthly trends in:\n",
    "- Retail Sales\n",
    "- Warehouse Sales\n",
    "- Total Sales Amount\n"
   ]
  },
  {
   "cell_type": "code",
   "execution_count": 21,
   "id": "ee740203",
   "metadata": {},
   "outputs": [
    {
     "name": "stderr",
     "output_type": "stream",
     "text": [
      "C:\\Users\\HUA\\AppData\\Local\\Temp\\ipykernel_9916\\3278661765.py:2: FutureWarning: 'M' is deprecated and will be removed in a future version, please use 'ME' instead.\n",
      "  monthly_sales = df.resample('M', on='date').agg({\n"
     ]
    },
    {
     "data": {
      "text/plain": [
       "<Figure size 1200x600 with 0 Axes>"
      ]
     },
     "metadata": {},
     "output_type": "display_data"
    },
    {
     "data": {
      "image/png": "[encoded data removed]",
      "text/plain": [
       "<Figure size 640x480 with 1 Axes>"
      ]
     },
     "metadata": {},
     "output_type": "display_data"
    }
   ],
   "source": [
    "#Monthly trends\n",
    "monthly_sales = df.resample('M', on='date').agg({\n",
    "    'retail_sales': 'sum',\n",
    "    'warehouse_sales': 'sum',\n",
    "    'total_amount': 'sum'\n",
    "})\n",
    "\n",
    "plt.figure(figsize=(12, 6))\n",
    "monthly_sales.plot(marker='o')\n",
    "plt.title(\"Monthly Sales Trends\")\n",
    "plt.ylabel(\"Sales Amount ($)\")\n",
    "plt.grid(True)\n",
    "plt.tight_layout()\n",
    "plt.savefig('monthly_trends.png', dpi=300)\n",
    "plt.show()"
   ]
  },
  {
   "cell_type": "markdown",
   "id": "57730f38",
   "metadata": {},
   "source": [
    "### Step 5: Top Product Categories\n",
    "\n",
    "Visualizing the top 5 product categories based on total sales (retail + warehouse).\n"
   ]
  },
  {
   "cell_type": "code",
   "execution_count": 22,
   "id": "12c63a5f",
   "metadata": {},
   "outputs": [
    {
     "data": {
      "image/png": "[encoded data removed]",
      "text/plain": [
       "<Figure size 1000x500 with 1 Axes>"
      ]
     },
     "metadata": {},
     "output_type": "display_data"
    }
   ],
   "source": [
    "#Top products\n",
    "top_products = df.groupby('product_category').agg({\n",
    "    'retail_sales': 'sum',\n",
    "    'warehouse_sales': 'sum'\n",
    "}).nlargest(5, 'retail_sales')\n",
    "\n",
    "top_products.plot(kind='bar', stacked=True, figsize=(10, 5))\n",
    "plt.title(\"Top 5 Products by Sales\")\n",
    "plt.xticks(rotation=45)\n",
    "plt.tight_layout()\n",
    "plt.savefig('top_products.png')\n",
    "plt.show()"
   ]
  },
  {
   "cell_type": "markdown",
   "id": "f82f02a9",
   "metadata": {},
   "source": [
    "### 👥 Step 6: Customer Spending"
   ]
  },
  {
   "cell_type": "code",
   "execution_count": 23,
   "id": "28de9dec",
   "metadata": {},
   "outputs": [],
   "source": [
    "# Only run if customer_id exists\n",
    "if 'customer_id' in df.columns:\n",
    "    top_customers = df.groupby('customer_id')['total_amount'].sum().nlargest(5)\n",
    "    top_customers.plot(kind='pie', autopct='%1.1f%%', figsize=(8, 8))\n",
    "    plt.title(\"Top Spending Customers\")\n",
    "    plt.ylabel(\"\")\n",
    "    plt.savefig('top_customers.png')\n",
    "    plt.show()"
   ]
  },
  {
   "cell_type": "markdown",
   "id": "2d2e738a",
   "metadata": {},
   "source": [
    "### Step 7: Key Insights & Export Cleaned Data\n",
    "\n",
    "We summarize our findings and export the cleaned dataset as `cleaned_retail_data.csv`.\n"
   ]
  },
  {
   "cell_type": "code",
   "execution_count": 24,
   "id": "c9a02aea",
   "metadata": {},
   "outputs": [
    {
     "name": "stdout",
     "output_type": "stream",
     "text": [
      "🔑 Key Insights:\n",
      "- Peak sales occur in December (holiday season)\n",
      "- Top product category: LIQUOR\n",
      "- Warehouse sales are 3.6 times retail sales\n",
      "\n",
      "✅ Data exported to 'cleaned_retail_data.csv'\n"
     ]
    }
   ],
   "source": [
    "# Cell 8: Key findings\n",
    "print(\"🔑 Key Insights:\")\n",
    "print(\"- Peak sales occur in December (holiday season)\")\n",
    "print(\"- Top product category:\", top_products.index[0])\n",
    "print(\"- Warehouse sales are\", \n",
    "      round(df['warehouse_sales'].sum()/df['retail_sales'].sum(), 2), \n",
    "      \"times retail sales\")\n",
    "\n",
    "# Export\n",
    "df.to_csv('cleaned_retail_data.csv', index=False)\n",
    "print(\"\\n✅ Data exported to 'cleaned_retail_data.csv'\")"
   ]
  },
  {
   "cell_type": "markdown",
   "id": "eccf8bf1",
   "metadata": {},
   "source": [
    "### Project Summary\n",
    "\n",
    "- 📈 Identified monthly sales trends\n",
    "- 🥇 Found top-selling product categories\n",
    "- 🔁 Compared warehouse vs retail performance\n",
    "- 🧼 Cleaned & exported final dataset"
   ]
  }
 ],
 "metadata": {
  "kernelspec": {
   "display_name": "Python 3",
   "language": "python",
   "name": "python3"
  },
  "language_info": {
   "codemirror_mode": {
    "name": "ipython",
    "version": 3
   },
   "file_extension": ".py",
   "mimetype": "text/x-python",
   "name": "python",
   "nbconvert_exporter": "python",
   "pygments_lexer": "ipython3",
   "version": "3.13.5"
  }
 },
 "nbformat": 4,
 "nbformat_minor": 5
}
